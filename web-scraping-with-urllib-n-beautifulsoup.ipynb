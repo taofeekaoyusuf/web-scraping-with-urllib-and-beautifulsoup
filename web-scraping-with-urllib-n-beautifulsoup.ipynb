{
 "cells": [
  {
   "cell_type": "markdown",
   "metadata": {},
   "source": [
    "# WEB SCRAPING WITH URLLIB AND BEAUTIFUL SOUP"
   ]
  },
  {
   "cell_type": "markdown",
   "metadata": {},
   "source": [
    "### Installing important libraries"
   ]
  },
  {
   "cell_type": "code",
   "execution_count": 78,
   "metadata": {
    "pycharm": {
     "name": "#%%\n"
    }
   },
   "outputs": [],
   "source": [
    "!pip install beautifulsoup4 --upgrade --quiet\n",
    "!pip install pandas --upgrade --quiet\n",
    "!pip install requests --upgrade --quiet"
   ]
  },
  {
   "cell_type": "markdown",
   "metadata": {},
   "source": [
    "### Importing useful libraries"
   ]
  },
  {
   "cell_type": "code",
   "execution_count": 79,
   "metadata": {
    "pycharm": {
     "name": "#%%\n"
    }
   },
   "outputs": [],
   "source": [
    "import pandas as pd\n",
    "from bs4 import BeautifulSoup\n",
    "import requests\n",
    "import time"
   ]
  },
  {
   "cell_type": "markdown",
   "source": [
    "### URL CONTENT PULLING\n",
    "\n",
    "Getting the web page to be scrapped into the code"
   ],
   "metadata": {
    "collapsed": false
   }
  },
  {
   "cell_type": "code",
   "execution_count": 80,
   "metadata": {
    "pycharm": {
     "name": "#%%\n"
    }
   },
   "outputs": [],
   "source": [
    "url_path = \"https://www.value.today/world/world-top-500-companies\"\n",
    "responses = requests.get(url_path)"
   ]
  },
  {
   "cell_type": "markdown",
   "source": [
    "### STATUS CODE CHECK\n",
    "\n",
    "It is important to check the legibility of the web-page to scrape to see if scraping is possible on it.\n",
    "\n",
    "It should be noted that this can be done using robots.txt before pulling the web content, OR;\n",
    "\n",
    "After the web content has been pulled by checking the status_code.\n",
    "\n",
    "Status code response in the range (200 - 299) means the web content can be scraped otherwise not."
   ],
   "metadata": {
    "collapsed": false
   }
  },
  {
   "cell_type": "code",
   "execution_count": 81,
   "outputs": [
    {
     "data": {
      "text/plain": "200"
     },
     "execution_count": 81,
     "metadata": {},
     "output_type": "execute_result"
    }
   ],
   "source": [
    "responses.status_code"
   ],
   "metadata": {
    "collapsed": false,
    "pycharm": {
     "name": "#%%\n"
    }
   }
  },
  {
   "cell_type": "markdown",
   "source": [
    "### INSPECTION AND EXTRACTION\n",
    "\n",
    "This is the stage where we inspect the web content we just pulled, AND;\n",
    "\n",
    "Extraction of the useful data / information we wish to document for further research and analysis."
   ],
   "metadata": {
    "collapsed": false
   }
  },
  {
   "cell_type": "code",
   "execution_count": 82,
   "outputs": [],
   "source": [
    "soup = BeautifulSoup(responses.text, 'html.parser')\n",
    "companies = soup.find_all('div', {'class' : 'row well views-row'})"
   ],
   "metadata": {
    "collapsed": false,
    "pycharm": {
     "name": "#%%\n"
    }
   }
  },
  {
   "cell_type": "markdown",
   "source": [
    "### Data Extraction Operation"
   ],
   "metadata": {
    "collapsed": false,
    "pycharm": {
     "name": "#%% md\n"
    }
   }
  },
  {
   "cell_type": "code",
   "execution_count": 83,
   "outputs": [],
   "source": [
    "world_rank = []\n",
    "for tag in companies:\n",
    "    rank = tag.find('div', {'class':'views-field views-field-field-world-rank-jan-2020 clearfix col-sm-12'})\n",
    "    try:\n",
    "        world_rank.append(int(rank.find('span').text))\n",
    "    except AttributeError:\n",
    "        world_rank.append(None)\n",
    "\n",
    "market_capital = []\n",
    "for tag in companies:\n",
    "    capital_market = tag.find('div', {'class':'views-field views-field-field-market-value-jan-2020 clearfix col-sm-12'})\n",
    "    try:\n",
    "        market_capital_value = capital_market.find('span', {'class':'field-content'})\n",
    "        market_capital.append(market_capital_value.text)\n",
    "    except AttributeError:\n",
    "        market_capital.append(None)\n",
    "\n",
    "head_quarters = []\n",
    "for tag in companies:\n",
    "    head_quarter = tag.find('div', {'class':'views-field views-field-field-headquarters-of-company clearfix col-sm-12'})\n",
    "    try:\n",
    "        head_quarters.append(head_quarter.find('span').text)\n",
    "    except AttributeError:\n",
    "        head_quarters.append(None)\n",
    "\n",
    "sectors = []\n",
    "for tag in companies:\n",
    "    sector_tag = tag.find('div', {'class':'views-field views-field-field-company-category-primary clearfix col-sm-12'})\n",
    "    try:\n",
    "        sectors.append(sector_tag.find('span').text)\n",
    "    except AttributeError:\n",
    "        sectors.append(None)\n",
    "\n",
    "annual_revenue = []\n",
    "for tag in companies:\n",
    "    revenue = tag.find('div', {'class' : 'views-field views-field-field-annual-revenue clearfix col-sm-12'})\n",
    "    try:\n",
    "        annual_revenue.append(revenue.find('span').text)\n",
    "    except AttributeError:\n",
    "        annual_revenue.append(None)\n",
    "\n",
    "annual_net_income = []\n",
    "for tag in companies:\n",
    "    net_income = tag.find('div', {'class' : 'views-field views-field-field-annual-net-income-lc clearfix col-sm-12'})\n",
    "    try:\n",
    "        annual_net_income.append(net_income.find('span').text)\n",
    "    except AttributeError:\n",
    "        annual_net_income.append(None)\n",
    "\n",
    "total_assets = []\n",
    "for tag in companies:\n",
    "    assets = tag.find('div', {'class' : 'views-field views-field-field-total-assets clearfix col-sm-12'})\n",
    "    try:\n",
    "        total_assets.append(assets.find('span').text)\n",
    "    except AttributeError:\n",
    "        total_assets.append(None)\n",
    "\n",
    "total_employees = []\n",
    "for tag in companies:\n",
    "    employees = tag.find('div',{'class':'views-field views-field-field-employee-count clearfix col-sm-12'})\n",
    "    try:\n",
    "        total_employees.append(employees.find('span').text)\n",
    "    except AttributeError:\n",
    "        total_employees.append(None)\n",
    "\n",
    "ceos = []\n",
    "for tag in companies:\n",
    "    ceo_ = tag.find('div', {'class':'views-field views-field-field-ceo clearfix col-sm-12'})\n",
    "    try:\n",
    "        ceo = ceo_.find('span', {'class':'field-content'})\n",
    "        ceos.append(ceo.text)\n",
    "    except AttributeError:\n",
    "        ceos.append(None)\n"
   ],
   "metadata": {
    "collapsed": false,
    "pycharm": {
     "name": "#%%\n"
    }
   }
  },
  {
   "cell_type": "markdown",
   "source": [
    "### PARSING\n",
    "This is the stage we parse the extracted data as .csv file for keep"
   ],
   "metadata": {
    "collapsed": false
   }
  },
  {
   "cell_type": "markdown",
   "source": [
    "### CREATING DICTIONARY OF THE EXTRACTED DATA"
   ],
   "metadata": {
    "collapsed": false
   }
  },
  {
   "cell_type": "code",
   "execution_count": 84,
   "outputs": [],
   "source": [
    "companies = {\n",
    "    \"World Rank\": world_rank,\n",
    "    \"Market Capital\": market_capital,\n",
    "    \"Headquarters\": head_quarters,\n",
    "    \"Sectors\": sectors,\n",
    "    \"Annual Revenue\": annual_revenue,\n",
    "    \"Annual Net Income\": annual_net_income,\n",
    "    \"Total Assests\": total_assets,\n",
    "    \"Total Employees\": total_employees,\n",
    "    \"CEOs\": ceos\n",
    "}"
   ],
   "metadata": {
    "collapsed": false,
    "pycharm": {
     "name": "#%%\n"
    }
   }
  },
  {
   "cell_type": "markdown",
   "source": [
    "### CONVERTING DICTIONARY INTO DATAFRAME"
   ],
   "metadata": {
    "collapsed": false
   }
  },
  {
   "cell_type": "code",
   "execution_count": 85,
   "outputs": [],
   "source": [
    "company_data_frame = pd.DataFrame(companies, dtype=object)"
   ],
   "metadata": {
    "collapsed": false,
    "pycharm": {
     "name": "#%%\n"
    }
   }
  },
  {
   "cell_type": "markdown",
   "source": [
    "### SAVING THE DATAFRAME AS A CSV FILE"
   ],
   "metadata": {
    "collapsed": false
   }
  },
  {
   "cell_type": "code",
   "execution_count": 91,
   "outputs": [],
   "source": [
    "company_data_frame.to_csv(\"/home/computech/Documents/Mine/Data_Science/web-scraping/withBeautifulSoup/Top 500 Companies.csv\")"
   ],
   "metadata": {
    "collapsed": false,
    "pycharm": {
     "name": "#%%\n"
    }
   }
  },
  {
   "cell_type": "code",
   "execution_count": 92,
   "outputs": [
    {
     "data": {
      "text/plain": "    World Rank       Market Capital  Headquarters  \\\n0            1  1898.10 Billion USD  Saudi Arabia   \n1            2  1323.00 Billion USD           USA   \n2            3  1215.00 Billion USD           USA   \n3            4   943.90 Billion USD           USA   \n4            5   941.03 Billion USD           USA   \n..         ...                  ...           ...   \n495        471    32.65 Billion USD         Japan   \n496        472    32.61 Billion USD         Italy   \n497        473    32.53 Billion USD           USA   \n498        474    32.52 Billion USD           USA   \n499        475    32.46 Billion USD        Mexico   \n\n                                               Sectors  \\\n0    Energy, Oil and Gas, Chemicals, Oil Refining, ...   \n1    Technology, Mobiles & Accessories, Electronics...   \n2    Technology, Software and IT, Laptops, Video Ga...   \n3    Technology, Internet or Mobile App Based Busin...   \n4    eCommerce, Internet or Mobile App Based Busine...   \n..                                                 ...   \n495  Consumer Defensive, Retail, Super Markets, Con...   \n496                      Financial Services, Insurance   \n497  Technology, Electronics, Cables and Wires, Ele...   \n498  Consumer Defensive, Food Products, FMCG, Dairy...   \n499  Consumer Defensive, Non-Alcoholic Beverages, B...   \n\n                                        Annual Revenue  \\\n0    Saudi Aramco Annual Revenues for December-2020...   \n1    Apple Annual Revenues for September-2020 endin...   \n2    Microsoft Annual Revenues for June-2020 ending...   \n3    Alphabet Annual Revenues for December-2020 end...   \n4    Amazon Annual Revenues for December-2020 endin...   \n..                                                 ...   \n495  SEVEN & I HOLDINGS Annual Revenues as on Decem...   \n496  ASSICURAZIONI GENERALI Annual Revenues as on D...   \n497  AMPHENOL CORPORATION Annual Revenues as on Dec...   \n498  GENERAL MILLS Annual Revenues as on December-2...   \n499  FEMSA Annual Revenues as on December-2019 endi...   \n\n                                     Annual Net Income  \\\n0    Saudi Aramco Annual Net Income for December-20...   \n1    Apple Annual Net Income for September-2020 end...   \n2    Microsoft Annual Net Income for June-2020 endi...   \n3    Alphabet Annual Net Income for December-2020 e...   \n4    Amazon Annual Net Income for December-2020 end...   \n..                                                 ...   \n495  SEVEN & I HOLDINGS Annual Net Income as on Dec...   \n496  ASSICURAZIONI GENERALI Annual Net Income as on...   \n497  AMPHENOL CORPORATION Annual Net Income as on D...   \n498  GENERAL MILLS Annual Net Income as on December...   \n499  FEMSA Annual Net Income as on December-2019 en...   \n\n                                         Total Assests Total Employees  \\\n0    Total Assets of Saudi Aramco as on December-20...          66,800   \n1    Apple Total Assets as on June-27-2020 is 317,3...         147,000   \n2    Total Assets of Microsoft Corporation is 301,3...         156,439   \n3                   299.243 Billion USD as on Sep-2020         156,500   \n4    Total Assets of Amazon as on Jun-2020 is 110,9...       1,335,000   \n..                                                 ...             ...   \n495                                               None          98,039   \n496                                               None          72,000   \n497                                               None          80,000   \n498  GENERAL MILLS Total Assets as on August-2020 i...          35,000   \n499                                               None         320,618   \n\n                     CEOs  \n0       Amin H. Al-Nasser  \n1                Tim Cook  \n2           Satya Nadella  \n3           Sundar Pichai  \n4              Andy Jassy  \n..                    ...  \n495         Ryuichi Isaka  \n496       Philippe Donnet  \n497  Richard Adam Norwitt  \n498        Jeff Harmening  \n499                  None  \n\n[500 rows x 9 columns]",
      "text/html": "<div>\n<style scoped>\n    .dataframe tbody tr th:only-of-type {\n        vertical-align: middle;\n    }\n\n    .dataframe tbody tr th {\n        vertical-align: top;\n    }\n\n    .dataframe thead th {\n        text-align: right;\n    }\n</style>\n<table border=\"1\" class=\"dataframe\">\n  <thead>\n    <tr style=\"text-align: right;\">\n      <th></th>\n      <th>World Rank</th>\n      <th>Market Capital</th>\n      <th>Headquarters</th>\n      <th>Sectors</th>\n      <th>Annual Revenue</th>\n      <th>Annual Net Income</th>\n      <th>Total Assests</th>\n      <th>Total Employees</th>\n      <th>CEOs</th>\n    </tr>\n  </thead>\n  <tbody>\n    <tr>\n      <th>0</th>\n      <td>1</td>\n      <td>1898.10 Billion USD</td>\n      <td>Saudi Arabia</td>\n      <td>Energy, Oil and Gas, Chemicals, Oil Refining, ...</td>\n      <td>Saudi Aramco Annual Revenues for December-2020...</td>\n      <td>Saudi Aramco Annual Net Income for December-20...</td>\n      <td>Total Assets of Saudi Aramco as on December-20...</td>\n      <td>66,800</td>\n      <td>Amin H. Al-Nasser</td>\n    </tr>\n    <tr>\n      <th>1</th>\n      <td>2</td>\n      <td>1323.00 Billion USD</td>\n      <td>USA</td>\n      <td>Technology, Mobiles &amp; Accessories, Electronics...</td>\n      <td>Apple Annual Revenues for September-2020 endin...</td>\n      <td>Apple Annual Net Income for September-2020 end...</td>\n      <td>Apple Total Assets as on June-27-2020 is 317,3...</td>\n      <td>147,000</td>\n      <td>Tim Cook</td>\n    </tr>\n    <tr>\n      <th>2</th>\n      <td>3</td>\n      <td>1215.00 Billion USD</td>\n      <td>USA</td>\n      <td>Technology, Software and IT, Laptops, Video Ga...</td>\n      <td>Microsoft Annual Revenues for June-2020 ending...</td>\n      <td>Microsoft Annual Net Income for June-2020 endi...</td>\n      <td>Total Assets of Microsoft Corporation is 301,3...</td>\n      <td>156,439</td>\n      <td>Satya Nadella</td>\n    </tr>\n    <tr>\n      <th>3</th>\n      <td>4</td>\n      <td>943.90 Billion USD</td>\n      <td>USA</td>\n      <td>Technology, Internet or Mobile App Based Busin...</td>\n      <td>Alphabet Annual Revenues for December-2020 end...</td>\n      <td>Alphabet Annual Net Income for December-2020 e...</td>\n      <td>299.243 Billion USD as on Sep-2020</td>\n      <td>156,500</td>\n      <td>Sundar Pichai</td>\n    </tr>\n    <tr>\n      <th>4</th>\n      <td>5</td>\n      <td>941.03 Billion USD</td>\n      <td>USA</td>\n      <td>eCommerce, Internet or Mobile App Based Busine...</td>\n      <td>Amazon Annual Revenues for December-2020 endin...</td>\n      <td>Amazon Annual Net Income for December-2020 end...</td>\n      <td>Total Assets of Amazon as on Jun-2020 is 110,9...</td>\n      <td>1,335,000</td>\n      <td>Andy Jassy</td>\n    </tr>\n    <tr>\n      <th>...</th>\n      <td>...</td>\n      <td>...</td>\n      <td>...</td>\n      <td>...</td>\n      <td>...</td>\n      <td>...</td>\n      <td>...</td>\n      <td>...</td>\n      <td>...</td>\n    </tr>\n    <tr>\n      <th>495</th>\n      <td>471</td>\n      <td>32.65 Billion USD</td>\n      <td>Japan</td>\n      <td>Consumer Defensive, Retail, Super Markets, Con...</td>\n      <td>SEVEN &amp; I HOLDINGS Annual Revenues as on Decem...</td>\n      <td>SEVEN &amp; I HOLDINGS Annual Net Income as on Dec...</td>\n      <td>None</td>\n      <td>98,039</td>\n      <td>Ryuichi Isaka</td>\n    </tr>\n    <tr>\n      <th>496</th>\n      <td>472</td>\n      <td>32.61 Billion USD</td>\n      <td>Italy</td>\n      <td>Financial Services, Insurance</td>\n      <td>ASSICURAZIONI GENERALI Annual Revenues as on D...</td>\n      <td>ASSICURAZIONI GENERALI Annual Net Income as on...</td>\n      <td>None</td>\n      <td>72,000</td>\n      <td>Philippe Donnet</td>\n    </tr>\n    <tr>\n      <th>497</th>\n      <td>473</td>\n      <td>32.53 Billion USD</td>\n      <td>USA</td>\n      <td>Technology, Electronics, Cables and Wires, Ele...</td>\n      <td>AMPHENOL CORPORATION Annual Revenues as on Dec...</td>\n      <td>AMPHENOL CORPORATION Annual Net Income as on D...</td>\n      <td>None</td>\n      <td>80,000</td>\n      <td>Richard Adam Norwitt</td>\n    </tr>\n    <tr>\n      <th>498</th>\n      <td>474</td>\n      <td>32.52 Billion USD</td>\n      <td>USA</td>\n      <td>Consumer Defensive, Food Products, FMCG, Dairy...</td>\n      <td>GENERAL MILLS Annual Revenues as on December-2...</td>\n      <td>GENERAL MILLS Annual Net Income as on December...</td>\n      <td>GENERAL MILLS Total Assets as on August-2020 i...</td>\n      <td>35,000</td>\n      <td>Jeff Harmening</td>\n    </tr>\n    <tr>\n      <th>499</th>\n      <td>475</td>\n      <td>32.46 Billion USD</td>\n      <td>Mexico</td>\n      <td>Consumer Defensive, Non-Alcoholic Beverages, B...</td>\n      <td>FEMSA Annual Revenues as on December-2019 endi...</td>\n      <td>FEMSA Annual Net Income as on December-2019 en...</td>\n      <td>None</td>\n      <td>320,618</td>\n      <td>None</td>\n    </tr>\n  </tbody>\n</table>\n<p>500 rows × 9 columns</p>\n</div>"
     },
     "execution_count": 92,
     "metadata": {},
     "output_type": "execute_result"
    }
   ],
   "source": [
    "company_data_frame"
   ],
   "metadata": {
    "collapsed": false,
    "pycharm": {
     "name": "#%%\n"
    }
   }
  },
  {
   "cell_type": "code",
   "execution_count": 87,
   "outputs": [],
   "source": [],
   "metadata": {
    "collapsed": false,
    "pycharm": {
     "name": "#%%\n"
    }
   }
  }
 ],
 "metadata": {
  "kernelspec": {
   "display_name": "Python 3 (ipykernel)",
   "language": "python",
   "name": "python3"
  },
  "language_info": {
   "codemirror_mode": {
    "name": "ipython",
    "version": 3
   },
   "file_extension": ".py",
   "mimetype": "text/x-python",
   "name": "python",
   "nbconvert_exporter": "python",
   "pygments_lexer": "ipython3",
   "version": "3.10.0"
  }
 },
 "nbformat": 4,
 "nbformat_minor": 1
}